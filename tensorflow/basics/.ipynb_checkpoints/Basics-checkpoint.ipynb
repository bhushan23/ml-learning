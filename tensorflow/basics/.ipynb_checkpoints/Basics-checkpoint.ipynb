{
 "metadata": {
  "name": "",
  "signature": "sha256:ea13c58053ffd0c703eb637bb563d6b8480fc0f8fd6d0e655879298950e1ca6d"
 },
 "nbformat": 3,
 "nbformat_minor": 0,
 "worksheets": []
}