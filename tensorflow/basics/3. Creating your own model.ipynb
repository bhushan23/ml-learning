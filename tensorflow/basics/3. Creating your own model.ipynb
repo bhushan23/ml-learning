{
 "cells": [
  {
   "cell_type": "code",
   "execution_count": 1,
   "metadata": {
    "collapsed": true
   },
   "outputs": [],
   "source": [
    "import tensorflow as tf\n",
    "import numpy as np"
   ]
  },
  {
   "cell_type": "code",
   "execution_count": 2,
   "metadata": {
    "collapsed": true
   },
   "outputs": [],
   "source": [
    "def model_fn(features, labels, mode):\n",
    "    W = tf.get_variable(\"W\", [1], dtype=tf.float64)\n",
    "    b = tf.get_variable(\"b\", [1], dtype=tf.float64)\n",
    "    y = W * features[\"x\"] + b\n",
    "    \n",
    "    loss = tf.reduce_sum(tf.square(y - labels))\n",
    "    \n",
    "    global_step = tf.train.get_global_step()\n",
    "    optimizer = tf.train.GradientDescentOptimizer(0.01)\n",
    "    train = tf.group(optimizer.minimize(loss), \n",
    "                    tf.assign_add(global_step, 1))\n",
    "    \n",
    "    return tf.estimator.EstimatorSpec(\n",
    "        mode = mode,\n",
    "        predictions = y, \n",
    "        loss = loss,\n",
    "        train_op = train)"
   ]
  },
  {
   "cell_type": "code",
   "execution_count": 3,
   "metadata": {},
   "outputs": [
    {
     "name": "stdout",
     "output_type": "stream",
     "text": [
      "INFO:tensorflow:Using default config.\n",
      "WARNING:tensorflow:Using temporary folder as model directory: /tmp/tmpl5d5_nl7\n",
      "INFO:tensorflow:Using config: {'_model_dir': '/tmp/tmpl5d5_nl7', '_tf_random_seed': 1, '_save_summary_steps': 100, '_save_checkpoints_secs': 600, '_save_checkpoints_steps': None, '_session_config': None, '_keep_checkpoint_max': 5, '_keep_checkpoint_every_n_hours': 10000, '_log_step_count_steps': 100}\n"
     ]
    }
   ],
   "source": [
    "estimator = tf.estimator.Estimator(model_fn = model_fn)"
   ]
  },
  {
   "cell_type": "code",
   "execution_count": 4,
   "metadata": {
    "collapsed": true
   },
   "outputs": [],
   "source": [
    "x_train = np.array([1., 2., 3., 4.])\n",
    "y_train = np.array([0., -1., -2., -3.])\n",
    "x_eval = np.array([2., 5., 8., 1.])\n",
    "y_eval = np.array([-1.01, -4.1, -7, 0.])"
   ]
  },
  {
   "cell_type": "code",
   "execution_count": 8,
   "metadata": {
    "collapsed": true
   },
   "outputs": [],
   "source": [
    "input_fn = tf.estimator.inputs.numpy_input_fn(\n",
    "{\"x\" : x_train} , y_train, batch_size = 4, num_epochs = None, shuffle = True)\n",
    "\n",
    "train_input_fn = tf.estimator.inputs.numpy_input_fn(\n",
    "{\"x\" : x_train} , y_train, batch_size = 4, num_epochs = 1000, shuffle = True)\n",
    "\n",
    "eval_input_fn = tf.estimator.inputs.numpy_input_fn(\n",
    "{\"x\" : x_train} , y_eval, batch_size = 4, num_epochs = 1000, shuffle = True)\n"
   ]
  },
  {
   "cell_type": "code",
   "execution_count": 9,
   "metadata": {},
   "outputs": [
    {
     "name": "stdout",
     "output_type": "stream",
     "text": [
      "INFO:tensorflow:Create CheckpointSaverHook.\n",
      "INFO:tensorflow:Restoring parameters from /tmp/tmpl5d5_nl7/model.ckpt-1000\n",
      "INFO:tensorflow:Saving checkpoints for 1001 into /tmp/tmpl5d5_nl7/model.ckpt.\n",
      "INFO:tensorflow:loss = 6.83056286852e-12, step = 1001\n",
      "INFO:tensorflow:global_step/sec: 741.961\n",
      "INFO:tensorflow:loss = 4.95470601102e-13, step = 1101 (0.139 sec)\n",
      "INFO:tensorflow:global_step/sec: 640.423\n",
      "INFO:tensorflow:loss = 1.35496677494e-13, step = 1201 (0.155 sec)\n",
      "INFO:tensorflow:global_step/sec: 652.912\n",
      "INFO:tensorflow:loss = 3.04811920704e-15, step = 1301 (0.152 sec)\n",
      "INFO:tensorflow:global_step/sec: 723.36\n",
      "INFO:tensorflow:loss = 8.38878415238e-16, step = 1401 (0.139 sec)\n",
      "INFO:tensorflow:global_step/sec: 670.89\n",
      "INFO:tensorflow:loss = 7.77297747686e-17, step = 1501 (0.148 sec)\n",
      "INFO:tensorflow:global_step/sec: 684.322\n",
      "INFO:tensorflow:loss = 2.8151438466e-18, step = 1601 (0.147 sec)\n",
      "INFO:tensorflow:global_step/sec: 679.392\n",
      "INFO:tensorflow:loss = 7.77408342097e-19, step = 1701 (0.146 sec)\n",
      "INFO:tensorflow:global_step/sec: 401.958\n",
      "INFO:tensorflow:loss = 9.96647158943e-21, step = 1801 (0.253 sec)\n",
      "INFO:tensorflow:global_step/sec: 355.353\n",
      "INFO:tensorflow:loss = 3.68038964295e-21, step = 1901 (0.278 sec)\n",
      "INFO:tensorflow:Saving checkpoints for 2000 into /tmp/tmpl5d5_nl7/model.ckpt.\n",
      "INFO:tensorflow:Loss for final step: 7.00160611498e-22.\n"
     ]
    },
    {
     "data": {
      "text/plain": [
       "<tensorflow.python.estimator.estimator.Estimator at 0x7f30fe0ca128>"
      ]
     },
     "execution_count": 9,
     "metadata": {},
     "output_type": "execute_result"
    }
   ],
   "source": [
    "estimator.train(input_fn = input_fn, steps = 1000)"
   ]
  },
  {
   "cell_type": "code",
   "execution_count": 10,
   "metadata": {},
   "outputs": [
    {
     "name": "stdout",
     "output_type": "stream",
     "text": [
      "INFO:tensorflow:Starting evaluation at 2017-09-03-00:20:47\n",
      "INFO:tensorflow:Restoring parameters from /tmp/tmpl5d5_nl7/model.ckpt-2000\n",
      "INFO:tensorflow:Finished evaluation at 2017-09-03-00:20:48\n",
      "INFO:tensorflow:Saving dict for global step 2000: global_step = 2000, loss = 3.36696e-22\n",
      "INFO:tensorflow:Starting evaluation at 2017-09-03-00:20:48\n",
      "INFO:tensorflow:Restoring parameters from /tmp/tmpl5d5_nl7/model.ckpt-2000\n",
      "INFO:tensorflow:Finished evaluation at 2017-09-03-00:20:49\n",
      "INFO:tensorflow:Saving dict for global step 2000: global_step = 2000, loss = 44.6299\n",
      "train metrics: {'loss': 3.3669603e-22, 'global_step': 2000}\n",
      "eval metrics: {'loss': 44.629925, 'global_step': 2000}\n"
     ]
    }
   ],
   "source": [
    "train_metrics = estimator.evaluate(input_fn=train_input_fn)\n",
    "eval_metrics = estimator.evaluate(input_fn=eval_input_fn)\n",
    "print(\"train metrics: %r\"% train_metrics)\n",
    "print(\"eval metrics: %r\"% eval_metrics)"
   ]
  },
  {
   "cell_type": "code",
   "execution_count": null,
   "metadata": {
    "collapsed": true
   },
   "outputs": [],
   "source": []
  }
 ],
 "metadata": {
  "kernelspec": {
   "display_name": "Python 3",
   "language": "python",
   "name": "python3"
  },
  "language_info": {
   "codemirror_mode": {
    "name": "ipython",
    "version": 3
   },
   "file_extension": ".py",
   "mimetype": "text/x-python",
   "name": "python",
   "nbconvert_exporter": "python",
   "pygments_lexer": "ipython3",
   "version": "3.6.1"
  }
 },
 "nbformat": 4,
 "nbformat_minor": 2
}
